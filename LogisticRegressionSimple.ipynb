{
  "nbformat": 4,
  "nbformat_minor": 0,
  "metadata": {
    "colab": {
      "provenance": [],
      "authorship_tag": "ABX9TyORRCQtEjWe0r8yawklqHwG",
      "include_colab_link": true
    },
    "kernelspec": {
      "name": "python3",
      "display_name": "Python 3"
    },
    "language_info": {
      "name": "python"
    }
  },
  "cells": [
    {
      "cell_type": "markdown",
      "metadata": {
        "id": "view-in-github",
        "colab_type": "text"
      },
      "source": [
        "<a href=\"https://colab.research.google.com/github/LilySaya/MachineLearning/blob/main/LogisticRegressionSimple.ipynb\" target=\"_parent\"><img src=\"https://colab.research.google.com/assets/colab-badge.svg\" alt=\"Open In Colab\"/></a>"
      ]
    },
    {
      "cell_type": "code",
      "execution_count": 57,
      "metadata": {
        "id": "U0LQShfumHqa"
      },
      "outputs": [],
      "source": [
        "import numpy as np\n",
        "\n",
        "def sigmoid(x):\n",
        "  return 1/(1+np.exp(-x))\n",
        "\n",
        "class MyLogisticRegression():\n",
        "  def __init__ (self, lr = 0.1, n_iters = 1000):\n",
        "    self.lr = lr\n",
        "    self.n_iters = n_iters\n",
        "    self.weights = None\n",
        "    self.bias = None\n",
        "\n",
        "\n",
        "  def fit(self, x, y):\n",
        "    n_samples, n_features = x.shape\n",
        "    self.weights = np.zeros(n_features)\n",
        "    self.bias = 0\n",
        "\n",
        "    for _ in range(self.n_iters):\n",
        "        linear_pred = np.dot(x, self.weights) + self.bias\n",
        "        predictions = sigmoid(linear_pred)\n",
        "\n",
        "        dw = (1/n_samples) * np.dot(x.T, (predictions - y))\n",
        "        db = (1/n_samples) * np.sum(predictions-y)\n",
        "\n",
        "        self.weights = self.weights - self.lr*dw\n",
        "        self.bias = self.bias - self.lr*db\n",
        "    \n",
        "\n",
        "  def predict(self, x):\n",
        "      linear_pred = np.dot(x, self.weights) + self.bias\n",
        "      y_pred = sigmoid(linear_pred)\n",
        "      class_pred = [0 if y<=0.5 else 1 for y in y_pred]\n",
        "      return class_pred"
      ]
    },
    {
      "cell_type": "code",
      "source": [
        "import statistics as st\n",
        "import numpy as np\n",
        "import pandas as pd\n",
        "import matplotlib.pyplot as plt\n",
        "import math\n",
        "import random\n",
        "from sklearn.datasets import load_iris\n",
        "from sklearn.model_selection import train_test_split\n",
        "from sklearn import datasets\n",
        "\n",
        "iris = load_iris()\n",
        "\n",
        "df = pd.DataFrame(iris.data, columns = iris.feature_names).assign(target = iris.target)\n",
        "lookup_flower_name = df.target.unique()\n",
        "\n",
        "x = df[['petal length (cm)','petal width (cm)']]\n",
        "y = df['target']\n",
        "y = pd.Series.tolist(y)\n",
        "y_new =  [ y[i] for i in range(len(y)) if y[i] == 0 or y[i] == 1  ]\n",
        "x = x.iloc[:100]\n",
        "\n",
        "x_train, x_test, y_train, y_test =  train_test_split(x,y_new, random_state = 0, test_size = 0.1)\n",
        "\n",
        "clf = MyLogisticRegression()\n",
        "clf.fit(x_train, y_train)\n",
        "y_pred = clf.predict(x_test)\n",
        "\n",
        "def accuracy (y_pred, y_test):\n",
        "  return np.sum(y_pred == y_test)/len(y_test)\n",
        "\n",
        "acc = accuracy(y_pred, y_test)\n",
        "print(y_test)\n",
        "print(y_pred)"
      ],
      "metadata": {
        "colab": {
          "base_uri": "https://localhost:8080/"
        },
        "id": "BNEG4AAcp2Lo",
        "outputId": "56392122-55c7-43a3-e068-223cd278b46e"
      },
      "execution_count": 58,
      "outputs": [
        {
          "output_type": "stream",
          "name": "stdout",
          "text": [
            "[0, 1, 0, 1, 1, 1, 0, 1, 1, 1]\n",
            "[0, 1, 0, 1, 1, 1, 0, 1, 1, 1]\n"
          ]
        }
      ]
    },
    {
      "cell_type": "code",
      "source": [],
      "metadata": {
        "id": "zpkJ9pXMqjrG"
      },
      "execution_count": null,
      "outputs": []
    }
  ]
}